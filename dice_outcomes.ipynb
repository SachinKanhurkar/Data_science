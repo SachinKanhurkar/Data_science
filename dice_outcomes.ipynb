{
 "cells": [
  {
   "cell_type": "code",
   "execution_count": 12,
   "metadata": {},
   "outputs": [],
   "source": [
    "import numpy as np\n",
    "d1=[1, 2, 3, 4, 5, 6]\n",
    "d2 =[1, 2 , 3, 4, 5, 6]\n",
    "E= np.zeros((6, 6))"
   ]
  },
  {
   "cell_type": "code",
   "execution_count": 24,
   "metadata": {},
   "outputs": [
    {
     "name": "stdout",
     "output_type": "stream",
     "text": [
      "6\n",
      "Answer of is 0.16666666666666666\n"
     ]
    }
   ],
   "source": [
    "count = 0\n",
    "for i in range(0, len(d1)):\n",
    "    for j in range(0, len(d2)):\n",
    "        E[i,j] = i+j\n",
    "        if (E[i,j]%2 ==0) and (E[i,j]%3 ==0):\n",
    "            count = count+1\n",
    "print(count)\n",
    "p = count/np.size(E)\n",
    "print(\"Answer of is {}\".format(p))"
   ]
  },
  {
   "cell_type": "code",
   "execution_count": 19,
   "metadata": {},
   "outputs": [
    {
     "data": {
      "text/plain": [
       "6"
      ]
     },
     "execution_count": 19,
     "metadata": {},
     "output_type": "execute_result"
    }
   ],
   "source": [
    "count"
   ]
  },
  {
   "cell_type": "code",
   "execution_count": null,
   "metadata": {},
   "outputs": [],
   "source": []
  }
 ],
 "metadata": {
  "kernelspec": {
   "display_name": "Python 3",
   "language": "python",
   "name": "python3"
  },
  "language_info": {
   "codemirror_mode": {
    "name": "ipython",
    "version": 3
   },
   "file_extension": ".py",
   "mimetype": "text/x-python",
   "name": "python",
   "nbconvert_exporter": "python",
   "pygments_lexer": "ipython3",
   "version": "3.8.5"
  }
 },
 "nbformat": 4,
 "nbformat_minor": 4
}
